{
 "cells": [
  {
   "cell_type": "code",
   "execution_count": null,
   "metadata": {},
   "outputs": [],
   "source": [
    "%pip install SpeechRecognition pyttsx3 "
   ]
  },
  {
   "cell_type": "markdown",
   "metadata": {},
   "source": [
    "# personal assistant using python speech recognition"
   ]
  },
  {
   "cell_type": "code",
   "execution_count": 1,
   "metadata": {},
   "outputs": [],
   "source": [
    "import speech_recognition as sr\n",
    "import pyttsx3\n",
    "import datetime\n",
    "import webbrowser"
   ]
  },
  {
   "cell_type": "code",
   "execution_count": null,
   "metadata": {},
   "outputs": [],
   "source": [
    "# initialize the speech engine\n",
    "engine = pyttsx3.init()\n",
    "\n",
    "# make assistant speak\n",
    "def speak(text):\n",
    "    engine.say(text)\n",
    "    engine.runAndWait()\n",
    "\n",
    "# listen to the user\n",
    "def take_command():\n",
    "    recognizer = sr.Recognizer()\n",
    "    with sr.Microphone() as source:\n",
    "        print(\"Listening...\")\n",
    "        recognizer.pause_threshold = 1\n",
    "        recognizer.adjust_for_ambient_noise(source)\n",
    "        audio = recognizer.listen(source)\n",
    "\n",
    "        try:\n",
    "            print(\"Recognizing...\")\n",
    "            command = recognizer.recognize_google(audio, language='en-in')\n",
    "            print(f\"User said: {command}\")\n",
    "        except Exception as e:\n",
    "            print(\"Say that again please...\")\n",
    "            return \"None\"\n",
    "        except sr.RequestError:\n",
    "            print(\"Sorry, my speech service is down\")\n",
    "            return \"None\"\n",
    "        \n",
    "    return command.lower()\n",
    "\n",
    "# function to respond to the user\n",
    "def respond(command):\n",
    "    if \"hello\" in command or \"hi\" in command:\n",
    "        speak(\"Hello! How can I assist you?\")\n",
    "\n",
    "    elif \"time\" in command:\n",
    "        time = datetime.datetime.now().strftime(\"%I:%M %p\")\n",
    "        speak(f\"The time is {time}\")\n",
    "\n",
    "    elif \"open\" in command and \"search\" in command:\n",
    "        speak(\"What should I search for?\")\n",
    "        search_query = take_command()\n",
    "        if search_query != \"None\":\n",
    "            if \"google\" in command:\n",
    "                speak(f\"Opening google and searching for the {search_query}\")\n",
    "                webbrowser.open(f\"https://www.google.com/search?q={search_query}\")\n",
    "            elif \"youtube\" in command:\n",
    "                speak(f\"Opening youtube and searching for the {search_query}\")\n",
    "                webbrowser.open(f\"https://www.youtube.com/results?search_query={search_query}\")\n",
    "            else:\n",
    "                speak(\"I am sorry, I can only open google and youtube\")\n",
    "        else:\n",
    "            speak(\"I am sorry, I did not get that. Please try again\")\n",
    "\n",
    "    elif \"bye\" in command or \"goodbye\" in command:\n",
    "        speak(\"Goodbye! Have a great day ahead\")\n",
    "        exit()\n",
    "\n",
    "    else:\n",
    "        speak(\"I am sorry, I did not get that. Please try again\")\n",
    "\n",
    "# main function\n",
    "if __name__ == \"__main__\":\n",
    "    speak(\"Hello! I am your virtual assistant. How can I assist you?\")\n",
    "    while True:\n",
    "        command = take_command()\n",
    "        respond(command)\n"
   ]
  }
 ],
 "metadata": {
  "kernelspec": {
   "display_name": ".venv",
   "language": "python",
   "name": "python3"
  },
  "language_info": {
   "codemirror_mode": {
    "name": "ipython",
    "version": 3
   },
   "file_extension": ".py",
   "mimetype": "text/x-python",
   "name": "python",
   "nbconvert_exporter": "python",
   "pygments_lexer": "ipython3",
   "version": "3.10.14"
  }
 },
 "nbformat": 4,
 "nbformat_minor": 2
}
