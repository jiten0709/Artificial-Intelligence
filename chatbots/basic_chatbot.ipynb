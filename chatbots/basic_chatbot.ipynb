{
 "cells": [
  {
   "cell_type": "markdown",
   "metadata": {},
   "source": [
    "# simple chatbot using pre-defined responses"
   ]
  },
  {
   "cell_type": "code",
   "execution_count": 1,
   "metadata": {},
   "outputs": [],
   "source": [
    "import re"
   ]
  },
  {
   "cell_type": "code",
   "execution_count": 11,
   "metadata": {},
   "outputs": [],
   "source": [
    "responses = [\n",
    "    ([\"hello\", \"hi\"], \"Hi there! How can I assist you?\"),\n",
    "    ([\"how are you\"], \"I'm a computer program, I don't have feelings.\"),\n",
    "    ([\"what is your name\"], \"I am a chatbot, I don't have a name.\"),\n",
    "    ([\"help\"], \"I can help you with a variety of things. Just ask me a question.\"),\n",
    "    ([\"bye\", \"goodbye\"], \"Goodbye! Have a great day!\"),\n",
    "    ([\"thanks\", \"thank you\"], \"You're welcome!\"),\n",
    "    ([\"default\"], \"I'm sorry, I don't understand that.\")\n",
    "]"
   ]
  },
  {
   "cell_type": "code",
   "execution_count": 20,
   "metadata": {},
   "outputs": [],
   "source": [
    "def chatbot_response(user_input):\n",
    "    user_input = user_input.lower()\n",
    "\n",
    "    for keywords, response in responses:\n",
    "        for keyword in keywords:\n",
    "            if re.search(keyword, user_input):\n",
    "                return response\n",
    "        \n",
    "    return responses[\"default\"]"
   ]
  },
  {
   "cell_type": "code",
   "execution_count": 17,
   "metadata": {},
   "outputs": [],
   "source": [
    "def chatbot():\n",
    "    print(\"Welcome to the chatbot! Type 'bye' to exit.\")\n",
    "\n",
    "    while True:\n",
    "        user_input = input(\"You: \")\n",
    "        print(\"User: \" + user_input)\n",
    "        \n",
    "        if user_input.lower() == \"bye\":\n",
    "            print(chatbot_response(user_input))\n",
    "            break\n",
    "        print(\"Bot: \" + chatbot_response(user_input))"
   ]
  },
  {
   "cell_type": "code",
   "execution_count": 18,
   "metadata": {},
   "outputs": [
    {
     "name": "stdout",
     "output_type": "stream",
     "text": [
      "Welcome to the chatbot! Type 'bye' to exit.\n",
      "User: hi\n",
      "Bot: Hi there! How can I assist you?\n",
      "User: hello\n",
      "Bot: Hi there! How can I assist you?\n",
      "User: hello\n",
      "Bot: Hi there! How can I assist you?\n",
      "User: thanks\n",
      "Bot: You're welcome!\n",
      "User: bye\n",
      "Goodbye! Have a great day!\n"
     ]
    }
   ],
   "source": [
    "chatbot()"
   ]
  },
  {
   "cell_type": "code",
   "execution_count": null,
   "metadata": {},
   "outputs": [],
   "source": []
  }
 ],
 "metadata": {
  "kernelspec": {
   "display_name": ".venv",
   "language": "python",
   "name": "python3"
  },
  "language_info": {
   "codemirror_mode": {
    "name": "ipython",
    "version": 3
   },
   "file_extension": ".py",
   "mimetype": "text/x-python",
   "name": "python",
   "nbconvert_exporter": "python",
   "pygments_lexer": "ipython3",
   "version": "3.10.14"
  }
 },
 "nbformat": 4,
 "nbformat_minor": 2
}
