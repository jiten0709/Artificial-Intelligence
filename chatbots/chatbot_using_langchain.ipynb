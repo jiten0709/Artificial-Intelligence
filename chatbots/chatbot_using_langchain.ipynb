{
 "cells": [
  {
   "cell_type": "markdown",
   "metadata": {},
   "source": [
    "# Simple Chatbot using LangChain (experiment with different prompts & LLMs)"
   ]
  },
  {
   "cell_type": "markdown",
   "metadata": {},
   "source": [
    "## installations"
   ]
  },
  {
   "cell_type": "code",
   "execution_count": null,
   "metadata": {},
   "outputs": [],
   "source": [
    "!pip install langchain langchain_community openai==0.28"
   ]
  },
  {
   "cell_type": "markdown",
   "metadata": {},
   "source": [
    "## get a list of all available models"
   ]
  },
  {
   "cell_type": "code",
   "execution_count": 6,
   "metadata": {},
   "outputs": [
    {
     "name": "stdout",
     "output_type": "stream",
     "text": [
      "dall-e-2\n",
      "gpt-3.5-turbo\n",
      "gpt-3.5-turbo-0125\n",
      "gpt-3.5-turbo-instruct\n",
      "babbage-002\n",
      "o1-mini\n",
      "o1-mini-2024-09-12\n",
      "whisper-1\n",
      "dall-e-3\n",
      "gpt-3.5-turbo-16k\n",
      "omni-moderation-latest\n",
      "o1-preview-2024-09-12\n",
      "omni-moderation-2024-09-26\n",
      "tts-1-hd-1106\n",
      "o1-preview\n",
      "tts-1-hd\n",
      "davinci-002\n",
      "text-embedding-ada-002\n",
      "gpt-4o-mini\n",
      "tts-1\n",
      "tts-1-1106\n",
      "gpt-3.5-turbo-instruct-0914\n",
      "gpt-4o-mini-2024-07-18\n",
      "text-embedding-3-small\n",
      "text-embedding-3-large\n",
      "gpt-3.5-turbo-1106\n"
     ]
    }
   ],
   "source": [
    "import openai\n",
    "import os\n",
    "from dotenv import load_dotenv\n",
    "\n",
    "# Load environment variables from .env file\n",
    "load_dotenv()\n",
    "\n",
    "api_key = os.getenv(\"OPENAI_API_KEY\")\n",
    "if api_key is None:\n",
    "    raise ValueError(\"OPENAI_API_KEY environment variable is not set\")\n",
    "\n",
    "openai.api_key = api_key\n",
    "\n",
    "# Get a list of available models\n",
    "models = openai.Model.list()\n",
    "\n",
    "# Print the list of models\n",
    "for model in models['data']:\n",
    "    print(model['id'])"
   ]
  },
  {
   "cell_type": "markdown",
   "metadata": {},
   "source": [
    "## chabtbot with single default prompt template"
   ]
  },
  {
   "cell_type": "code",
   "execution_count": 8,
   "metadata": {},
   "outputs": [
    {
     "name": "stdout",
     "output_type": "stream",
     "text": [
      "Simple Chatbot (type 'exit' to quit)\n",
      "Bot: Hello! How can I assist you today?\n",
      "Bot: AI, or Artificial Intelligence, refers to the simulation of human intelligence processes by machines, particularly computer systems. This involves the development of algorithms and models that enable machines to perform tasks that typically require human intelligence. Key components of AI include:\n",
      "\n",
      "1. **Machine Learning (ML)**: A subset of AI that enables systems to learn from data and improve their performance over time without being explicitly programmed for each specific task.\n",
      "\n",
      "2. **Natural Language Processing (NLP)**: The ability of AI to understand, interpret, and generate human language, allowing for interactions between computers and humans through natural language.\n",
      "\n",
      "3. **Computer Vision**: The capability of AI to interpret and process visual information from the world, enabling applications such as facial recognition, object detection, and image analysis.\n",
      "\n",
      "4. **Robotics**: The integration of AI in robots, allowing them to perform tasks autonomously or with minimal human intervention.\n",
      "\n",
      "5. **Expert Systems**: AI systems that emulate the decision-making ability of a human expert in specific domains, using rule-based or knowledge-based approaches.\n",
      "\n",
      "AI can be categorized into two main types:\n",
      "\n",
      "- **Narrow AI**: AI systems that are designed and trained for a specific task, such as speech recognition or playing chess.\n",
      "  \n",
      "- **General AI (AGI)**: A theoretical form of AI that possesses the ability to understand, learn, and apply intelligence across a broad range of tasks, similar to human cognitive abilities.\n",
      "\n",
      "Applications of AI are widespread and include fields such as healthcare, finance, automotive (self-driving cars), customer service (chatbots), entertainment (recommendation systems), and many others.\n",
      "Bot: It seems like you might be expressing a desire to stop or end a conversation. If you have any specific questions or if there's something you want to discuss, feel free to let me know! Otherwise, take care, and you can return anytime if you have more questions later.\n",
      "Goodbye!\n"
     ]
    }
   ],
   "source": [
    "import openai\n",
    "import os\n",
    "from dotenv import load_dotenv\n",
    "\n",
    "# Load environment variables from .env file\n",
    "load_dotenv()\n",
    "\n",
    "api_key = os.getenv(\"OPENAI_API_KEY\")\n",
    "if api_key is None:\n",
    "    raise ValueError(\"OPENAI_API_KEY environment variable is not set\")\n",
    "\n",
    "openai.api_key = api_key\n",
    "\n",
    "# Define a prompt template\n",
    "prompt_template = \"\"\"\n",
    "You are a helpful assistant. Please answer the user's question as clearly and helpfully as possible.\n",
    "\n",
    "Question: {user_input}\n",
    "\"\"\"\n",
    "\n",
    "# Interact with the chatbot\n",
    "def chat_with_bot():\n",
    "    print(\"Simple Chatbot (type 'q' to quit)\")\n",
    "    while True:\n",
    "        user_input = input(\"You: \")\n",
    "        if user_input.lower() == \"q\":\n",
    "            print(\"Goodbye!\")\n",
    "            break\n",
    "        response = openai.ChatCompletion.create(\n",
    "            model=\"gpt-4o-mini\",\n",
    "            messages=[\n",
    "                {\"role\": \"system\", \"content\": \"You are a helpful assistant.\"},\n",
    "                {\"role\": \"user\", \"content\": user_input}\n",
    "            ]\n",
    "        )\n",
    "        bot_reply = response.choices[0].message.content\n",
    "        print(f\"You: {user_input}\")\n",
    "        print(f\"Bot: {bot_reply}\")\n",
    "\n",
    "# Run the chatbot\n",
    "if __name__ == \"__main__\":\n",
    "    chat_with_bot()\n"
   ]
  },
  {
   "cell_type": "markdown",
   "metadata": {},
   "source": [
    "## chabtbot with different prompt template"
   ]
  },
  {
   "cell_type": "code",
   "execution_count": null,
   "metadata": {},
   "outputs": [],
   "source": [
    "from langchain import PromptTemplate, LLMChain, OpenAI\n",
    "import openai\n",
    "import os\n",
    "from dotenv import load_dotenv\n",
    "\n",
    "# Load environment variables from .env file\n",
    "load_dotenv()\n",
    "\n",
    "api_key = os.getenv(\"OPENAI_API_KEY\")\n",
    "if api_key is None:\n",
    "    raise ValueError(\"OPENAI_API_KEY environment variable is not set\")\n",
    "\n",
    "openai.api_key = api_key\n",
    "\n",
    "# Define different prompt templates\n",
    "prompt_templates = {\n",
    "    \"default\": \"\"\"\n",
    "    You are a helpful assistant. Please answer the user's question as clearly and helpfully as possible.\n",
    "\n",
    "    Question: {user_input}\n",
    "    \"\"\",\n",
    "    \"friendly\": \"\"\"\n",
    "    You are a friendly assistant. Please answer the user's question in a friendly and engaging manner.\n",
    "\n",
    "    Question: {user_input}\n",
    "    \"\"\",\n",
    "    \"professional\": \"\"\"\n",
    "    You are a professional assistant. Please answer the user's question in a professional and concise manner.\n",
    "\n",
    "    Question: {user_input}\n",
    "    \"\"\"\n",
    "}\n",
    "\n",
    "# Function to create a chatbot with a specific prompt template and model\n",
    "def create_chatbot(prompt_template, model_name):\n",
    "    prompt = PromptTemplate(\n",
    "        input_variables=[\"user_input\"],\n",
    "        template=prompt_template,\n",
    "    )\n",
    "    llm = OpenAI(model_name=model_name, temperature=0.7)\n",
    "    return LLMChain(llm=llm, prompt=prompt)\n",
    "\n",
    "# Interact with the chatbot\n",
    "def chat_with_bot(chatbot_chain):\n",
    "    print(\"Simple Chatbot (type 'q' to quit)\")\n",
    "    while True:\n",
    "        user_input = input(\"You: \")\n",
    "        if user_input.lower() == \"q\":\n",
    "            print(\"Goodbye!\")\n",
    "            break\n",
    "        response = chatbot_chain.run(user_input=user_input)\n",
    "        print(f\"You: {user_input}\")\n",
    "        print(f\"Bot: {response}\")\n",
    "\n",
    "# Run the chatbot with different prompts and models\n",
    "if __name__ == \"__main__\":\n",
    "    print(\"Choose a prompt template (default, friendly, professional):\")\n",
    "    prompt_choice = input(\"Prompt: \").strip().lower()\n",
    "    \n",
    "    prompt_template = prompt_templates.get(prompt_choice, prompt_templates[\"default\"])\n",
    "    print(f\"prompt template selected: {prompt_choice}\")\n",
    "\n",
    "    # Change the model name here\n",
    "    model_choice = \"babbage-002\" \n",
    "\n",
    "    chatbot_chain = create_chatbot(prompt_template, model_choice)\n",
    "    chat_with_bot(chatbot_chain)"
   ]
  },
  {
   "cell_type": "code",
   "execution_count": null,
   "metadata": {},
   "outputs": [],
   "source": []
  }
 ],
 "metadata": {
  "kernelspec": {
   "display_name": ".venv",
   "language": "python",
   "name": "python3"
  },
  "language_info": {
   "codemirror_mode": {
    "name": "ipython",
    "version": 3
   },
   "file_extension": ".py",
   "mimetype": "text/x-python",
   "name": "python",
   "nbconvert_exporter": "python",
   "pygments_lexer": "ipython3",
   "version": "3.10.14"
  }
 },
 "nbformat": 4,
 "nbformat_minor": 2
}
