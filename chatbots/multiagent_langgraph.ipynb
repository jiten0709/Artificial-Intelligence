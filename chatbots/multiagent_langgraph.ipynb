{
 "cells": [
  {
   "cell_type": "markdown",
   "metadata": {},
   "source": [
    "# Multi-Agent task collaboration scenario using LangGraph (customer support simulation)"
   ]
  },
  {
   "cell_type": "markdown",
   "metadata": {},
   "source": [
    "## install dependencies"
   ]
  },
  {
   "cell_type": "code",
   "execution_count": null,
   "metadata": {},
   "outputs": [],
   "source": [
    "!pip install langgraph"
   ]
  },
  {
   "cell_type": "markdown",
   "metadata": {},
   "source": [
    "## main code"
   ]
  },
  {
   "cell_type": "code",
   "execution_count": null,
   "metadata": {},
   "outputs": [],
   "source": [
    "from langchain.agents import initialize_agent, Tool\n",
    "from langchain.llms import OpenAI\n",
    "import os\n",
    "from dotenv import load_dotenv\n",
    "\n",
    "load_dotenv()\n",
    "\n",
    "# Initialize the language model\n",
    "llm = OpenAI(temperature=0, openai_api_key=os.getenv(\"OPENAI_API_KEY\"))\n",
    "\n",
    "# Define tools (functions) for each agent\n",
    "def customer_support_tool(input_text):\n",
    "    if \"issue\" in input_text.lower():\n",
    "        return \"Investigating issue: Please restart your device and try again.\"\n",
    "    return \"Your query has been escalated to technical support.\"\n",
    "\n",
    "def technical_support_tool(input_text):\n",
    "    if \"error\" in input_text.lower() or \"escalated\" in input_text.lower():\n",
    "        return \"Technical analysis in progress: Applying software update.\"\n",
    "    return \"Unable to resolve the issue; escalating further.\"\n",
    "\n",
    "def feedback_tool(input_text):\n",
    "    if \"feedback\" in input_text.lower():\n",
    "        return \"Thank you for your feedback! We appreciate your input.\"\n",
    "    return \"No action needed.\"\n",
    "\n",
    "# Create tools\n",
    "customer_support = Tool(\n",
    "    name=\"Customer Support\",\n",
    "    func=customer_support_tool,\n",
    "    description=\"Handles general customer issues.\"\n",
    ")\n",
    "\n",
    "technical_support = Tool(\n",
    "    name=\"Technical Support\",\n",
    "    func=technical_support_tool,\n",
    "    description=\"Handles technical issues escalated from customer support.\"\n",
    ")\n",
    "\n",
    "feedback = Tool(\n",
    "    name=\"Feedback\",\n",
    "    func=feedback_tool,\n",
    "    description=\"Records customer feedback.\"\n",
    ")\n",
    "\n",
    "# Initialize the agent with the tools\n",
    "agent = initialize_agent(\n",
    "    tools=[customer_support, technical_support, feedback],\n",
    "    llm=llm,\n",
    "    agent=\"zero-shot-react-description\",\n",
    "    verbose=True\n",
    ")\n"
   ]
  },
  {
   "cell_type": "code",
   "execution_count": null,
   "metadata": {},
   "outputs": [],
   "source": [
    "queries = [\n",
    "    \"I have an issue with my device not turning on.\",\n",
    "    \"I'm encountering an error 404 when accessing the website.\",\n",
    "    \"I want to provide feedback about your service.\"\n",
    "]\n",
    "\n",
    "for query in queries:\n",
    "    response = agent.run(query)\n",
    "    print(f\"Query: {query}\\nResponse: {response}\\n\")\n"
   ]
  },
  {
   "cell_type": "code",
   "execution_count": null,
   "metadata": {},
   "outputs": [],
   "source": []
  }
 ],
 "metadata": {
  "kernelspec": {
   "display_name": ".venv",
   "language": "python",
   "name": "python3"
  },
  "language_info": {
   "codemirror_mode": {
    "name": "ipython",
    "version": 3
   },
   "file_extension": ".py",
   "mimetype": "text/x-python",
   "name": "python",
   "nbconvert_exporter": "python",
   "pygments_lexer": "ipython3",
   "version": "3.10.14"
  }
 },
 "nbformat": 4,
 "nbformat_minor": 2
}
