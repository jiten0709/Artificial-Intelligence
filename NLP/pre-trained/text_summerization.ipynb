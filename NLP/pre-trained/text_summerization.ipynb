{
 "cells": [
  {
   "cell_type": "code",
   "execution_count": null,
   "metadata": {},
   "outputs": [],
   "source": [
    "import nltk\n",
    "\n",
    "# Paths to remove\n",
    "paths_to_remove = ['/Users/hi/nltk_data', '/usr/share/nltk_data', '/usr/local/share/nltk_data', '/usr/lib/nltk_data', '/usr/local/lib/nltk_data']\n",
    "\n",
    "# Dynamically remove specified paths\n",
    "for path in paths_to_remove:\n",
    "    try:\n",
    "        nltk.data.path.remove(path)\n",
    "        print(f\"Removed: {path}\")\n",
    "    except ValueError:\n",
    "        print(f\"Path not found or already removed: {path}\")\n",
    "\n",
    "# Verify remaining paths\n",
    "print(\"\\nUpdated NLTK data paths:\")\n",
    "for path in nltk.data.path:\n",
    "    print(path)\n"
   ]
  },
  {
   "cell_type": "markdown",
   "metadata": {},
   "source": [
    "# text summerization using gensim"
   ]
  },
  {
   "cell_type": "code",
   "execution_count": 1,
   "metadata": {},
   "outputs": [],
   "source": [
    "import nltk\n",
    "from nltk.corpus import stopwords\n",
    "from nltk.tokenize import word_tokenize, sent_tokenize"
   ]
  },
  {
   "cell_type": "code",
   "execution_count": 2,
   "metadata": {},
   "outputs": [
    {
     "name": "stdout",
     "output_type": "stream",
     "text": [
      "['/Users/hi/nltk_data', '/Users/hi/jitenStuff/MyGit/AI-ML-DL/.venv/nltk_data', '/Users/hi/jitenStuff/MyGit/AI-ML-DL/.venv/share/nltk_data', '/Users/hi/jitenStuff/MyGit/AI-ML-DL/.venv/lib/nltk_data', '/usr/share/nltk_data', '/usr/local/share/nltk_data', '/usr/lib/nltk_data', '/usr/local/lib/nltk_data']\n"
     ]
    }
   ],
   "source": [
    "import nltk\n",
    "\n",
    "print(nltk.data.path)"
   ]
  },
  {
   "cell_type": "code",
   "execution_count": 5,
   "metadata": {},
   "outputs": [
    {
     "name": "stderr",
     "output_type": "stream",
     "text": [
      "[nltk_data] Downloading package stopwords to /Users/hi/nltk_data...\n",
      "[nltk_data]   Package stopwords is already up-to-date!\n",
      "[nltk_data] Downloading package punkt to /Users/hi/nltk_data...\n",
      "[nltk_data]   Package punkt is already up-to-date!\n",
      "[nltk_data] Downloading package punkt_tab to /Users/hi/nltk_data...\n",
      "[nltk_data]   Unzipping tokenizers/punkt_tab.zip.\n"
     ]
    },
    {
     "data": {
      "text/plain": [
       "True"
      ]
     },
     "execution_count": 5,
     "metadata": {},
     "output_type": "execute_result"
    }
   ],
   "source": [
    "nltk.data.path.append('/Users/hi/jitenStuff/MyGit/AI-ML-DL/.venv/nltk_data')\n",
    "\n",
    "nltk.download('stopwords')\n",
    "nltk.download('punkt')\n",
    "nltk.download('punkt_tab')"
   ]
  },
  {
   "cell_type": "code",
   "execution_count": 6,
   "metadata": {},
   "outputs": [],
   "source": [
    "# function to generate a frequency-based summary\n",
    "def summarize_text(text, num_sentences=2):\n",
    "    # tokenize the text \n",
    "    sentences = sent_tokenize(text)\n",
    "    words = word_tokenize(text.lower())\n",
    "\n",
    "    # remove stopwords and non-alphabetic tokens\n",
    "    stop_words = set(stopwords.words('english'))\n",
    "    word_frequencies = {}\n",
    "    for word in words:\n",
    "        if word.isalpha() and word not in stop_words:\n",
    "            word_frequencies[word] = word_frequencies.get(word, 0) + 1\n",
    "\n",
    "    # score sentences based on word frequency\n",
    "    sentence_scores = {}\n",
    "    for sentence in sentences:\n",
    "        for word in word_tokenize(sentence.lower()):\n",
    "            if word in word_frequencies:\n",
    "                sentence_scores[sentence] = sentence_scores.get(sentence, 0) + word_frequencies[word]\n",
    "\n",
    "    # sort sentences by score and return the top num_sentences\n",
    "    summary_sentences = sorted(sentence_scores, key=sentence_scores.get, reverse=True)[:num_sentences]\n",
    "    summary = ' '.join(summary_sentences)\n",
    "\n",
    "    return summary\n",
    "\n"
   ]
  },
  {
   "cell_type": "code",
   "execution_count": 9,
   "metadata": {},
   "outputs": [
    {
     "name": "stdout",
     "output_type": "stream",
     "text": [
      "original text: \n",
      "\n",
      "Natural Language Processing (NLP) is a field of artificial intelligence that focuses on the interaction between computers and humans through natural language. The ultimate goal of NLP is to enable computers to understand, interpret, and generate human language in a way that is both meaningful and useful. NLP is used in a variety of applications, including language translation, sentiment analysis, and speech recognition.\n",
      "One of the key challenges in NLP is the ambiguity and complexity of human language. Words can have multiple meanings depending on the context, and the structure of sentences can vary widely. To address these challenges, NLP relies on a combination of linguistic and statistical techniques. Machine learning algorithms are often used to analyze large datasets of text and learn patterns that can be applied to new data.\n",
      "Recent advancements in NLP have been driven by the development of deep learning models, such as transformers. These models have significantly improved the accuracy and efficiency of NLP tasks, enabling new applications and services. For example, chatbots powered by NLP can provide customer support and answer questions in real-time, while language translation services can instantly translate text between multiple languages.\n",
      "Despite these advancements, there are still many open questions and challenges in the field of NLP. Researchers are continually working to improve the accuracy and robustness of NLP models, as well as to address ethical considerations related to the use of AI in language processing. As the field continues to evolve, it holds great promise for transforming the way we interact with technology and with each other.\n",
      "\n",
      "------------------------------------------------------------------------------------------------------------------------------------------------------\n",
      "summary of the text: \n",
      "\n",
      "Natural Language Processing (NLP) is a field of artificial intelligence that focuses on the interaction between computers and humans through natural language. For example, chatbots powered by NLP can provide customer support and answer questions in real-time, while language translation services can instantly translate text between multiple languages.\n"
     ]
    }
   ],
   "source": [
    "# text to summarize\n",
    "text = \"\"\"\n",
    "Natural Language Processing (NLP) is a field of artificial intelligence that focuses on the interaction between computers and humans through natural language. The ultimate goal of NLP is to enable computers to understand, interpret, and generate human language in a way that is both meaningful and useful. NLP is used in a variety of applications, including language translation, sentiment analysis, and speech recognition.\n",
    "One of the key challenges in NLP is the ambiguity and complexity of human language. Words can have multiple meanings depending on the context, and the structure of sentences can vary widely. To address these challenges, NLP relies on a combination of linguistic and statistical techniques. Machine learning algorithms are often used to analyze large datasets of text and learn patterns that can be applied to new data.\n",
    "Recent advancements in NLP have been driven by the development of deep learning models, such as transformers. These models have significantly improved the accuracy and efficiency of NLP tasks, enabling new applications and services. For example, chatbots powered by NLP can provide customer support and answer questions in real-time, while language translation services can instantly translate text between multiple languages.\n",
    "Despite these advancements, there are still many open questions and challenges in the field of NLP. Researchers are continually working to improve the accuracy and robustness of NLP models, as well as to address ethical considerations related to the use of AI in language processing. As the field continues to evolve, it holds great promise for transforming the way we interact with technology and with each other.\n",
    "\"\"\"\n",
    "\n",
    "# generate a summary of the text\n",
    "summary = summarize_text(text, num_sentences=2)\n",
    "print(f\"original text: \\n{text}\")\n",
    "print('-'*150)\n",
    "print(f\"summary of the text: \\n{summary}\")\n"
   ]
  },
  {
   "cell_type": "code",
   "execution_count": null,
   "metadata": {},
   "outputs": [],
   "source": []
  }
 ],
 "metadata": {
  "kernelspec": {
   "display_name": ".venv",
   "language": "python",
   "name": "python3"
  },
  "language_info": {
   "codemirror_mode": {
    "name": "ipython",
    "version": 3
   },
   "file_extension": ".py",
   "mimetype": "text/x-python",
   "name": "python",
   "nbconvert_exporter": "python",
   "pygments_lexer": "ipython3",
   "version": "3.10.14"
  }
 },
 "nbformat": 4,
 "nbformat_minor": 2
}
