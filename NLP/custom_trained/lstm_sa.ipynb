{
 "cells": [
  {
   "cell_type": "markdown",
   "metadata": {},
   "source": [
    "# LSTM model for sentiment analysis"
   ]
  },
  {
   "cell_type": "markdown",
   "metadata": {},
   "source": [
    "## model development"
   ]
  },
  {
   "cell_type": "code",
   "execution_count": null,
   "metadata": {},
   "outputs": [],
   "source": [
    "from tensorflow.keras.datasets import imdb\n",
    "from tensorflow.keras.preprocessing.sequence import pad_sequences\n",
    "from tensorflow.keras import layers, models\n",
    "from tensorflow.keras.callbacks import ModelCheckpoint, EarlyStopping"
   ]
  },
  {
   "cell_type": "code",
   "execution_count": null,
   "metadata": {},
   "outputs": [],
   "source": [
    "# Load the IMDb dataset\n",
    "\n",
    "max_words = 10000  # Consider the top 10,000 most frequent words\n",
    "max_len = 200  # Pad sequences to a maximum length of 200 words\n",
    "\n",
    "(X_train, y_train), (X_test, y_test) = imdb.load_data(num_words=max_words)\n",
    "\n",
    "# Pad sequences to ensure all inputs are of the same length\n",
    "\n",
    "X_train = pad_sequences(X_train, maxlen=max_len)\n",
    "X_test = pad_sequences(X_test, maxlen=max_len)"
   ]
  },
  {
   "cell_type": "code",
   "execution_count": null,
   "metadata": {},
   "outputs": [],
   "source": [
    "def build_lstm_model():\n",
    "    model = models.Sequential()\n",
    "    model.add(layers.Embedding(input_dim=max_words, output_dim=128, input_length=max_len))\n",
    "    model.add(layers.LSTM(128, return_sequences=True))  # LSTM layer\n",
    "    model.add(layers.Dropout(0.2))\n",
    "    model.add(layers.LSTM(64, return_sequences=True))  # LSTM layer\n",
    "    model.add(layers.Dropout(0.2))\n",
    "    model.add(layers.LSTM(32, return_sequences=True))  # LSTM layer\n",
    "    model.add(layers.Dropout(0.2))\n",
    "    model.add(layers.LSTM(16, return_sequences=True))  # LSTM layer\n",
    "    model.add(layers.Dropout(0.2))\n",
    "    model.add(layers.LSTM(8, return_sequences=True))  # LSTM layer\n",
    "    model.add(layers.Dropout(0.2))\n",
    "    model.add(layers.LSTM(4, return_sequences=False))  # LSTM layer\n",
    "    model.add(layers.Dense(1, activation='sigmoid'))  # Binary classification\n",
    "    \n",
    "    model.compile(optimizer='adam', loss='binary_crossentropy', metrics=['accuracy'])\n",
    "    return model\n",
    "\n",
    "lstm_model = build_lstm_model()\n"
   ]
  },
  {
   "cell_type": "code",
   "execution_count": null,
   "metadata": {},
   "outputs": [],
   "source": [
    "# Define the ModelCheckpoint callback to save the best model\n",
    "\n",
    "checkpoint_callback = ModelCheckpoint(\n",
    "    filepath='models/lstm_model_sa.keras',\n",
    "    monitor='val_loss',\n",
    "    save_best_only=True,\n",
    "    mode='min',\n",
    "    verbose=1\n",
    ")\n",
    "\n",
    "# Define early stopping callback\n",
    "\n",
    "early_stopping = EarlyStopping(monitor='val_loss', patience=2, restore_best_weights=True)"
   ]
  },
  {
   "cell_type": "code",
   "execution_count": null,
   "metadata": {},
   "outputs": [],
   "source": [
    "# Train the LSTM model\n",
    "\n",
    "history_lstm = lstm_model.fit(\n",
    "    X_train, y_train,\n",
    "    epochs=10,\n",
    "    batch_size=64,\n",
    "    validation_data=(X_test, y_test),\n",
    "    callbacks=[checkpoint_callback, early_stopping],\n",
    "    verbose=1\n",
    ")"
   ]
  },
  {
   "cell_type": "code",
   "execution_count": null,
   "metadata": {},
   "outputs": [],
   "source": [
    "# Evaluate the LSTM model\n",
    "\n",
    "lstm_loss, lstm_accuracy = lstm_model.evaluate(X_test, y_test, verbose=1)\n",
    "print(f\"LSTM Model Accuracy: {lstm_accuracy * 100:.2f}%\")"
   ]
  },
  {
   "cell_type": "markdown",
   "metadata": {},
   "source": [
    "## model utilization"
   ]
  },
  {
   "cell_type": "code",
   "execution_count": null,
   "metadata": {},
   "outputs": [],
   "source": [
    "# load the saved model\n",
    "\n",
    "from tensorflow.keras.preprocessing.sequence import pad_sequences\n",
    "from tensorflow.keras.datasets import imdb\n",
    "from tensorflow.keras.models import load_model\n",
    "\n",
    "best_gru_model = load_model('models/lstm_model_sa.keras')"
   ]
  },
  {
   "cell_type": "code",
   "execution_count": null,
   "metadata": {},
   "outputs": [],
   "source": [
    "word_index = imdb.get_word_index()\n",
    "\n",
    "def preprocess_query(query, max_len=300):\n",
    "    words = query.lower().split()\n",
    "    query_indices = [word_index.get(word, 2) for word in words]\n",
    "    padded_query = pad_sequences([query_indices], maxlen=max_len)\n",
    "    return padded_query"
   ]
  },
  {
   "cell_type": "code",
   "execution_count": null,
   "metadata": {},
   "outputs": [],
   "source": [
    "def predict_sentiment(query):\n",
    "    preprocessed_query = preprocess_query(query)\n",
    "    prediction = best_gru_model.predict(preprocessed_query)\n",
    "    sentiment = \"POSITIVE\" if prediction[0][0] > 0.5 else \"NEGATIVE\"\n",
    "    return sentiment, prediction[0][0]\n",
    "\n",
    "custom_queries = [\n",
    "    \"I loved this movie, it was fantastic!\",\n",
    "    \"This movie was terrible and boring.\",\n",
    "    \"The plot was interesting but the acting was bad.\"\n",
    "]\n",
    "\n",
    "for query in custom_queries:\n",
    "    sentiment, confidence = predict_sentiment(query)\n",
    "    print(f\"Query: {query}\")\n",
    "    print(f\"Sentiment: {sentiment}, Confidence: {confidence:.4f}\")\n",
    "    print(\"-------------------------\")"
   ]
  }
 ],
 "metadata": {
  "kernelspec": {
   "display_name": ".venv",
   "language": "python",
   "name": "python3"
  },
  "language_info": {
   "name": "python",
   "version": "3.10.14"
  }
 },
 "nbformat": 4,
 "nbformat_minor": 2
}
